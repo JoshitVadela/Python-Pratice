{
  "nbformat": 4,
  "nbformat_minor": 0,
  "metadata": {
    "colab": {
      "provenance": [],
      "include_colab_link": true
    },
    "kernelspec": {
      "name": "python3",
      "display_name": "Python 3"
    },
    "language_info": {
      "name": "python"
    }
  },
  "cells": [
    {
      "cell_type": "markdown",
      "metadata": {
        "id": "view-in-github",
        "colab_type": "text"
      },
      "source": [
        "<a href=\"https://colab.research.google.com/github/JoshitVadela/Python-Pratice/blob/main/Test_Program_Python.ipynb\" target=\"_parent\"><img src=\"https://colab.research.google.com/assets/colab-badge.svg\" alt=\"Open In Colab\"/></a>"
      ]
    },
    {
      "cell_type": "code",
      "source": [
        "new_names = []\n",
        "for i in range(0,5):\n",
        "  name = input(\"What is your name: \")\n",
        "  new_names.append(name)\n",
        "print(new_names)"
      ],
      "metadata": {
        "colab": {
          "base_uri": "https://localhost:8080/"
        },
        "id": "ScbKA0WG6EVY",
        "outputId": "43c2ef5a-42b4-4968-98cc-9770dc77cbb4"
      },
      "execution_count": 1,
      "outputs": [
        {
          "output_type": "stream",
          "name": "stdout",
          "text": [
            "What is your name: a\n",
            "What is your name: b\n",
            "What is your name: c\n",
            "What is your name: d\n",
            "What is your name: e\n",
            "['a', 'b', 'c', 'd', 'e']\n"
          ]
        }
      ]
    },
    {
      "cell_type": "code",
      "source": [],
      "metadata": {
        "id": "lOwZyuYY81GS"
      },
      "execution_count": null,
      "outputs": []
    }
  ]
}