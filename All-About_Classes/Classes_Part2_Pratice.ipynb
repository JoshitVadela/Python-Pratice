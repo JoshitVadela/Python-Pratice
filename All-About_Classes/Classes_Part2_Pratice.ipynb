{
  "nbformat": 4,
  "nbformat_minor": 0,
  "metadata": {
    "colab": {
      "provenance": [],
      "authorship_tag": "ABX9TyOXzs2FZtLyUs0jQ549cADY",
      "include_colab_link": true
    },
    "kernelspec": {
      "name": "python3",
      "display_name": "Python 3"
    },
    "language_info": {
      "name": "python"
    }
  },
  "cells": [
    {
      "cell_type": "markdown",
      "metadata": {
        "id": "view-in-github",
        "colab_type": "text"
      },
      "source": [
        "<a href=\"https://colab.research.google.com/github/JoshitVadela/Python-Pratice/blob/main/Classes_Part2_Pratice.ipynb\" target=\"_parent\"><img src=\"https://colab.research.google.com/assets/colab-badge.svg\" alt=\"Open In Colab\"/></a>"
      ]
    },
    {
      "cell_type": "code",
      "execution_count": null,
      "metadata": {
        "colab": {
          "base_uri": "https://localhost:8080/"
        },
        "id": "PP-4Lk0P2ksa",
        "outputId": "55a4f29a-c0a7-47c2-a927-273cb6ec0cb6"
      },
      "outputs": [
        {
          "output_type": "stream",
          "name": "stdout",
          "text": [
            "Haris.Hashmi@company.com\n",
            "---> Aarvind C\n",
            "---> Joshit Vadela\n"
          ]
        }
      ],
      "source": [
        "class Employee:\n",
        "\n",
        "  raise_amt = 1.04\n",
        "\n",
        "  def __init__(self, first, last, pay):\n",
        "    self.first = first\n",
        "    self.last = last\n",
        "    self.pay = pay\n",
        "    self.email = first + '.' + last + '@company.com'\n",
        "\n",
        "  def fullname(self):\n",
        "    return '{} {}'.format(self.first, self.last)\n",
        "\n",
        "\n",
        "  def apply_raise(self):\n",
        "    self.pay = int(self.pay * self.raise_amt)\n",
        "\n",
        "\n",
        "class Developer(Employee):\n",
        "\n",
        "  raise_amt = 1.10\n",
        "\n",
        "  def __init__(self, first, last, pay, prog_lang):\n",
        "    super().__init__(first, last, pay)\n",
        "    self.prog_lang = prog_lang\n",
        "\n",
        "\n",
        "class Manager(Employee):\n",
        "\n",
        "  def __init__(self, first, last, pay, employees= None):\n",
        "    super().__init__(first, last, pay)\n",
        "    if employees is None:\n",
        "      self.employees = []\n",
        "    else:\n",
        "      self.employees = employees\n",
        "\n",
        "  def add_employee(self, emp):\n",
        "    if emp not in self.employees:\n",
        "      self.employees.append(emp)\n",
        "\n",
        "  def remove_employee(self, emp):\n",
        "    if emp in self.employees:\n",
        "      self.employees.remove(emp)\n",
        "\n",
        "  def print_employees(self):\n",
        "    for emp in self.employees:\n",
        "      print('--->', emp.fullname())\n",
        "\n",
        "\n",
        "\n",
        "dev_1 = Developer('Joshit', 'Vadela', 80000, 'Python')\n",
        "emp_1 = Employee('Aarvind', 'C', 100000)\n",
        "\n",
        "mgr_1 = Manager('Haris', 'Hashmi', 90000, [emp_1])\n",
        "\n",
        "print(mgr_1.email)\n",
        "\n",
        "mgr_1.add_employee(dev_1)\n",
        "mgr_1.print_employees()\n",
        "\n"
      ]
    }
  ]
}
